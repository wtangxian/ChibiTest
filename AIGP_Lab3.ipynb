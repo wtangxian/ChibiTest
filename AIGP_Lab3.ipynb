{
  "nbformat": 4,
  "nbformat_minor": 0,
  "metadata": {
    "colab": {
      "provenance": [],
      "authorship_tag": "ABX9TyP259KV5hF4GBW876GzDbEK",
      "include_colab_link": true
    },
    "kernelspec": {
      "name": "python3",
      "display_name": "Python 3"
    },
    "language_info": {
      "name": "python"
    }
  },
  "cells": [
    {
      "cell_type": "markdown",
      "metadata": {
        "id": "view-in-github",
        "colab_type": "text"
      },
      "source": [
        "<a href=\"https://colab.research.google.com/github/wtangxian/ChibiTest/blob/master/AIGP_Lab3.ipynb\" target=\"_parent\"><img src=\"https://colab.research.google.com/assets/colab-badge.svg\" alt=\"Open In Colab\"/></a>"
      ]
    },
    {
      "cell_type": "code",
      "execution_count": 33,
      "metadata": {
        "id": "wYrG5Vp191XW"
      },
      "outputs": [],
      "source": [
        "# AIGP Lab 3 Tasks\n",
        "# Implementing simple artificial neuron learning algorithm\n",
        "# Step 1: Implement the activation function\n",
        "def step_function(x, theta):\n",
        "    if x >= theta:\n",
        "        return 1\n",
        "    else:\n",
        "        return 0\n",
        "\n",
        "# Step 2: Implement a single ANN neuron\n",
        "\n",
        "def ANN_neuron(x1, x2, w1, w2, Yd, theta, alfa, iteration):\n",
        "  for i in range(iteration):\n",
        "    for j in range(len(x1)): # Iterate through each data point\n",
        "      X = w1*x1[j] + w2*x2[j]\n",
        "      Y = step_function(X, theta)\n",
        "      # Update weights using the perceptron learning rule\n",
        "      w1 = w1 + alfa * (Yd[j]- Y) * x1[j] # Update using individual data point\n",
        "      w2 = w2 + alfa * (Yd[j]- Y) * x2[j] # Update using individual data point\n",
        "  return w1, w2"
      ]
    },
    {
      "cell_type": "code",
      "source": [
        "# Train the ANN neuron using the dataset\n",
        "# x1 = 0, x2 = 0, y = 0\n",
        "# x1 = 0, x2 = 1, y = 0\n",
        "# x1 = 1, x2 = 0, y = 0\n",
        "# x1 = 1, x2 = 1, y = 1\n",
        "# iteration = 20, theta = 0.2, alfa =0.1, w1  =0.3, w2 = -0.1\n",
        "x1 = [0, 0, 1, 1]\n",
        "x2 = [0, 1, 0, 1]\n",
        "Yd = [0, 0, 0, 1]\n",
        "w1, w2 = ANN_neuron(x1, x2, 0.3, -0.1, Yd, 0.2, 0.1, 20)\n",
        "print(w1, w2)"
      ],
      "metadata": {
        "colab": {
          "base_uri": "https://localhost:8080/"
        },
        "id": "jRo88jPgCWrH",
        "outputId": "f46b5b8a-d68f-4962-f7f5-c02ad7d4d123"
      },
      "execution_count": 34,
      "outputs": [
        {
          "output_type": "stream",
          "name": "stdout",
          "text": [
            "0.19999999999999998 0.1\n"
          ]
        }
      ]
    }
  ]
}