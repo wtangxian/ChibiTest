{
  "nbformat": 4,
  "nbformat_minor": 0,
  "metadata": {
    "colab": {
      "provenance": [],
      "authorship_tag": "ABX9TyOwcsQUj+tKHLItnXaS2efX",
      "include_colab_link": true
    },
    "kernelspec": {
      "name": "python3",
      "display_name": "Python 3"
    },
    "language_info": {
      "name": "python"
    }
  },
  "cells": [
    {
      "cell_type": "markdown",
      "metadata": {
        "id": "view-in-github",
        "colab_type": "text"
      },
      "source": [
        "<a href=\"https://colab.research.google.com/github/wtangxian/ChibiTest/blob/master/AIGP_Lab2.ipynb\" target=\"_parent\"><img src=\"https://colab.research.google.com/assets/colab-badge.svg\" alt=\"Open In Colab\"/></a>"
      ]
    },
    {
      "cell_type": "code",
      "execution_count": 30,
      "metadata": {
        "id": "rygNOIr_a4PO"
      },
      "outputs": [],
      "source": [
        "# Task 1.1: AI activation functions\n",
        "import math\n",
        "theta = 0.2\n",
        "e = 2.71828\n",
        "def sign_function(X):\n",
        "    if X >= theta:\n",
        "        Y = 1\n",
        "    else:\n",
        "        Y = -1\n",
        "    return Y\n",
        "\n",
        "def step_function(X):\n",
        "    if X >= theta:\n",
        "        Y = 1\n",
        "    else:\n",
        "        Y = 0\n",
        "    return Y\n",
        "\n",
        "def sigmoid_function(X):\n",
        "    Y = 1 / (1 + math.e**(X-theta))\n",
        "    return Y\n",
        "\n",
        "# Example usage (optional)\n",
        "# result = sign_function(0.5)\n",
        "# print(result)\n",
        "# result = sign_function(0.1)\n",
        "# print(result)\n",
        "# result = step_function (0.3)\n",
        "# print(result)\n",
        "# result = sigmoid_function(0.3)\n",
        "# print(result)\n"
      ]
    },
    {
      "cell_type": "code",
      "source": [
        "result = sign_function(0.3)\n",
        "print(result)\n",
        "result = sign_function(2.0)\n",
        "print(result)\n",
        "result = sign_function(-0.2)\n",
        "print(result)\n",
        "result = step_function(0.3)\n",
        "print(result)\n",
        "result = step_function(0.1)\n",
        "print(result)\n",
        "result = sigmoid_function(0.3)\n",
        "print(result)\n",
        "\n",
        "\n"
      ],
      "metadata": {
        "colab": {
          "base_uri": "https://localhost:8080/"
        },
        "id": "M7IxOxjWcFf5",
        "outputId": "48478c11-9cb2-4d8f-812b-b70ba4119222"
      },
      "execution_count": 31,
      "outputs": [
        {
          "output_type": "stream",
          "name": "stdout",
          "text": [
            "1\n",
            "1\n",
            "-1\n",
            "1\n",
            "0\n",
            "0.4750208292954072\n"
          ]
        }
      ]
    },
    {
      "cell_type": "code",
      "source": [
        "# Task 1.2: Test some functions agaist well known values\n",
        "# result = sigmoid_function(0) # result = 0.5\n",
        "# print(result)\n",
        "\n",
        "result = sigmoid_function(0)\n",
        "print(result)\n",
        "\n",
        "# Test mannual implementation agaist a trusted library\n",
        "import numpy as np\n",
        "result = 1 / (1 + np.exp(0.3-0.2)) # 1 / (1 + np.exp(-x))\n",
        "print(result)\n",
        "\n",
        "# compare with your own code result\n",
        "result = sigmoid_function(0.3)\n",
        "print(result)\n"
      ],
      "metadata": {
        "colab": {
          "base_uri": "https://localhost:8080/"
        },
        "id": "e7aFnid5jZCb",
        "outputId": "0d886e3e-2345-4ef9-d67e-7042b031903c"
      },
      "execution_count": 32,
      "outputs": [
        {
          "output_type": "stream",
          "name": "stdout",
          "text": [
            "0.5498339640139386\n",
            "0.47502081252106\n",
            "0.4750208292954072\n"
          ]
        }
      ]
    },
    {
      "cell_type": "code",
      "source": [
        "# Task 1.3: Implement ReLU, Leaky ReLU, Linear function and Tanh (Hyperbolic Tangent)\n",
        "def relu_function(X):\n",
        "    if X >= 0:\n",
        "        Y = X\n",
        "    else:\n",
        "        Y = 0\n",
        "    return Y\n",
        "def leaky_relu_function(X):\n",
        "    alf = 0.01\n",
        "    if X >= 0:\n",
        "        Y = X\n",
        "    else:\n",
        "        Y = alf*X\n",
        "    return Y\n",
        "def linear_function(X):\n",
        "    Y = X\n",
        "    return Y\n",
        "def tanh_function(X):\n",
        "    Y = (math.e**(X)-math.e**(-X))/(math.e**(X)+math.e**(-X))\n",
        "    return Y\n"
      ],
      "metadata": {
        "id": "h-yO7OS-mtbj"
      },
      "execution_count": 33,
      "outputs": []
    },
    {
      "cell_type": "code",
      "source": [
        "# Task 1.3 test\n",
        "result = relu_function(0.3)\n",
        "print(result)\n",
        "result = relu_function(-0.3)\n",
        "print(result)\n",
        "result = leaky_relu_function(-0.3)\n",
        "print(result)\n",
        "result = linear_function(0.3)\n",
        "print(result)\n",
        "result = tanh_function(0.3)\n",
        "print(result)\n"
      ],
      "metadata": {
        "colab": {
          "base_uri": "https://localhost:8080/"
        },
        "id": "vkFlnVyJobki",
        "outputId": "21f7ee5f-4cce-458e-c9a1-79f242128497"
      },
      "execution_count": 38,
      "outputs": [
        {
          "output_type": "stream",
          "name": "stdout",
          "text": [
            "0.3\n",
            "0\n",
            "-0.003\n",
            "0.3\n",
            "0.29131261245159085\n"
          ]
        }
      ]
    },
    {
      "cell_type": "code",
      "source": [
        "#Task 1.4 Generate plots for activiation functions\n",
        "import matplotlib.pyplot as plt\n",
        "\n",
        "X = [i * 0.1 for i in range(-50, 51)]  # from -5.0 to +5.0, step = 0.1\n",
        "Y = [relu_function(x) for x in X]      # apply relu to each x\n",
        "\n",
        "# Plot\n",
        "plt.figure(figsize=(6,4))\n",
        "plt.plot(X, Y, label=\"ReLU\", color=\"red\")\n",
        "plt.title(\"ReLU Activation Function\")\n",
        "plt.xlabel(\"Input (X)\")\n",
        "plt.ylabel(\"Output (Y)\")\n",
        "plt.grid(True)\n",
        "plt.legend()\n",
        "plt.show()\n"
      ],
      "metadata": {
        "colab": {
          "base_uri": "https://localhost:8080/",
          "height": 410
        },
        "id": "nbIdWH2mvwwD",
        "outputId": "1aaf88e6-c279-4bfb-d5b2-676b4bee37db"
      },
      "execution_count": 41,
      "outputs": [
        {
          "output_type": "display_data",
          "data": {
            "text/plain": [
              "<Figure size 600x400 with 1 Axes>"
            ],
            "image/png": "[encoded data removed]"
          },
          "metadata": {}
        }
      ]
    }
  ]
}